{
 "cells": [
  {
   "cell_type": "code",
   "execution_count": 8,
   "id": "240ec84d-1a90-4cda-b62a-1484cc520ef5",
   "metadata": {},
   "outputs": [],
   "source": [
    "import random"
   ]
  },
  {
   "cell_type": "code",
   "execution_count": 9,
   "id": "c2481493-1042-42c0-9593-1f44d75d0af1",
   "metadata": {},
   "outputs": [],
   "source": [
    "def safe_health_chatbot(user_query):\n",
    "    safe_responses = [\n",
    "        \"A balanced diet includes a variety of fruits, vegetables, whole grain, lean proteins, and healthy fats.\",\n",
    "        \"Try to limit processed fruits, sugary drinks, and excessive salt.\",\n",
    "        \"Drink pleanty of water and eat meals at regular times.\",\n",
    "        \"For personalized advice, consult a registration dietition or healthcore professional.\",\n",
    "        \"Regular exercise and good sleep are important for overall health.\",\n",
    "        \"If you have a specific health concerns, it's best to consult a healthcore professional.\"\n",
    "        \"Drinking water help keeps your body hydrated, support digestion, and improve skin health.\",\n",
    "        \"A regular sleep schedule means going to bed and waking up at a same time every day.\"\n",
    "    ]\n",
    "    unsafe_keywords = [\"prescribe\", \"diagnose\", \"dose\", \"dosage\", \"emergency_advice\"]\n",
    "    if any (word in user_query.lower() for word in unsafe_keywords):\n",
    "        return \"I'm sorry, but I can't provide that information. Please consult a healthcore professional.\"\n",
    "    return random.choice(safe_responses)"
   ]
  },
  {
   "cell_type": "code",
   "execution_count": null,
   "id": "310c0431-8f34-44cf-b572-8868673ca781",
   "metadata": {},
   "outputs": [
    {
     "name": "stdin",
     "output_type": "stream",
     "text": [
      "Ask a health question (or type 'exit' to quit):  What is a balanced diet?\n"
     ]
    },
    {
     "name": "stdout",
     "output_type": "stream",
     "text": [
      "Bot:  Try to limit processed fruits, sugary drinks, and excessive salt.\n"
     ]
    },
    {
     "name": "stdin",
     "output_type": "stream",
     "text": [
      "Ask a health question (or type 'exit' to quit):  What are the benefits of drinking water?\n"
     ]
    },
    {
     "name": "stdout",
     "output_type": "stream",
     "text": [
      "Bot:  A balanced diet includes a variety of fruits, vegetables, whole grain, lean proteins, and healthy fats.\n"
     ]
    }
   ],
   "source": [
    "while True:\n",
    "    user_input = input(\"Ask a health question (or type 'exit' to quit): \")\n",
    "    if user_input.lower() == 'exit':\n",
    "        break\n",
    "    response = safe_health_chatbot(user_input)\n",
    "    print(\"Bot: \",response)"
   ]
  },
  {
   "cell_type": "code",
   "execution_count": null,
   "id": "337a2161-1580-46fc-be52-bf8474105915",
   "metadata": {},
   "outputs": [],
   "source": []
  }
 ],
 "metadata": {
  "kernelspec": {
   "display_name": "Python [conda env:base] *",
   "language": "python",
   "name": "conda-base-py"
  },
  "language_info": {
   "codemirror_mode": {
    "name": "ipython",
    "version": 3
   },
   "file_extension": ".py",
   "mimetype": "text/x-python",
   "name": "python",
   "nbconvert_exporter": "python",
   "pygments_lexer": "ipython3",
   "version": "3.12.7"
  }
 },
 "nbformat": 4,
 "nbformat_minor": 5
}
